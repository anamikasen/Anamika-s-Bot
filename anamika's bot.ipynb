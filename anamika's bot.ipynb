{
 "cells": [
  {
   "cell_type": "markdown",
   "metadata": {},
   "source": [
    "### Imports"
   ]
  },
  {
   "cell_type": "code",
   "execution_count": 1,
   "metadata": {
    "collapsed": true
   },
   "outputs": [],
   "source": [
    "import json\n",
    "import requests\n",
    "from credentials import * \n",
    "import pprint\n",
    "import time\n",
    "pp = pprint.PrettyPrinter(indent=4)\n",
    "import urllib"
   ]
  },
  {
   "cell_type": "code",
   "execution_count": 3,
   "metadata": {
    "collapsed": true
   },
   "outputs": [],
   "source": [
    "# global variable URL which is the main crux of the API calls to Telegram Bot\n",
    "url = \"https://api.telegram.org/bot{}/\".format(token)"
   ]
  },
  {
   "cell_type": "code",
   "execution_count": 5,
   "metadata": {
    "collapsed": true
   },
   "outputs": [],
   "source": [
    "def getUrl(url):\n",
    "    response = requests.get(url)\n",
    "    content = response.content.decode(\"utf8\")\n",
    "    return content"
   ]
  },
  {
   "cell_type": "code",
   "execution_count": 4,
   "metadata": {
    "collapsed": true
   },
   "outputs": [],
   "source": [
    "def getMe(url):\n",
    "    URL = url+'getme'\n",
    "    #response gives the response code. the content needs to be retrieved\n",
    "    content = getUrl(URL)\n",
    "    return content"
   ]
  },
  {
   "cell_type": "code",
   "execution_count": 6,
   "metadata": {
    "collapsed": true
   },
   "outputs": [],
   "source": [
    "def getJsonFromUrl(url):\n",
    "    content = getUrl(url)\n",
    "    data = json.loads(content)\n",
    "    #return pp.pprint(data)\n",
    "    return data\n"
   ]
  },
  {
   "cell_type": "code",
   "execution_count": 7,
   "metadata": {
    "collapsed": true
   },
   "outputs": [],
   "source": [
    "def getUpdates():\n",
    "    URL = url + 'getUpdates'\n",
    "    content = getJsonFromUrl(URL)\n",
    "    return content"
   ]
  },
  {
   "cell_type": "code",
   "execution_count": 16,
   "metadata": {},
   "outputs": [],
   "source": [
    "def getLastChatIDandText(updates):\n",
    "    num_updates = len(updates[\"result\"])\n",
    "    last_update = num_updates - 1\n",
    "    text = updates[\"result\"][last_update][\"message\"][\"text\"]\n",
    "    chat_id = updates[\"result\"][last_update][\"message\"][\"chat\"][\"id\"]\n",
    "    return (text, chat_id)"
   ]
  },
  {
   "cell_type": "code",
   "execution_count": 12,
   "metadata": {},
   "outputs": [],
   "source": [
    "def sendMessage(text, chatid):\n",
    "    URL = url + \"sendMessage?text={}&chat_id={}\".format(text, chatid)\n",
    "    getUrl(URL)"
   ]
  },
  {
   "cell_type": "code",
   "execution_count": 20,
   "metadata": {},
   "outputs": [],
   "source": [
    "text, chat = getLastChatIDandText(getUpdates())\n",
    "sendMessage(text, chat)"
   ]
  },
  {
   "cell_type": "code",
   "execution_count": null,
   "metadata": {
    "collapsed": true
   },
   "outputs": [],
   "source": []
  },
  {
   "cell_type": "code",
   "execution_count": null,
   "metadata": {
    "collapsed": true
   },
   "outputs": [],
   "source": []
  },
  {
   "cell_type": "code",
   "execution_count": null,
   "metadata": {
    "collapsed": true
   },
   "outputs": [],
   "source": []
  }
 ],
 "metadata": {
  "kernelspec": {
   "display_name": "Python 3",
   "language": "python",
   "name": "python3"
  },
  "language_info": {
   "codemirror_mode": {
    "name": "ipython",
    "version": 3
   },
   "file_extension": ".py",
   "mimetype": "text/x-python",
   "name": "python",
   "nbconvert_exporter": "python",
   "pygments_lexer": "ipython3",
   "version": "3.6.3"
  }
 },
 "nbformat": 4,
 "nbformat_minor": 2
}
